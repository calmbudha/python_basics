{
 "cells": [
  {
   "cell_type": "code",
   "execution_count": 2,
   "metadata": {},
   "outputs": [],
   "source": [
    "def kadane_sum(arr):\n",
    "    local_sum = max_sum = 0\n",
    "    for item in arr:\n",
    "        local_sum = max(item, item + local_sum)\n",
    "        if local_sum > max_sum:\n",
    "            max_sum = local_sum\n",
    "    return max_sum"
   ]
  },
  {
   "cell_type": "code",
   "execution_count": 3,
   "metadata": {},
   "outputs": [
    {
     "name": "stdout",
     "output_type": "stream",
     "text": [
      "6\n"
     ]
    }
   ],
   "source": [
    "arr = [-2, 1, -3, 4, -1, 2, 1, -5, 4]\n",
    "print(kadane_sum(arr))"
   ]
  },
  {
   "cell_type": "code",
   "execution_count": null,
   "metadata": {},
   "outputs": [],
   "source": []
  }
 ],
 "metadata": {
  "kernelspec": {
   "display_name": "Python 3.9.12 ('base')",
   "language": "python",
   "name": "python3"
  },
  "language_info": {
   "codemirror_mode": {
    "name": "ipython",
    "version": 3
   },
   "file_extension": ".py",
   "mimetype": "text/x-python",
   "name": "python",
   "nbconvert_exporter": "python",
   "pygments_lexer": "ipython3",
   "version": "3.9.12"
  },
  "orig_nbformat": 4,
  "vscode": {
   "interpreter": {
    "hash": "40d818046654f0db9751226f56af5ffc2d4d024a3008615475cd1718847ce279"
   }
  }
 },
 "nbformat": 4,
 "nbformat_minor": 2
}
